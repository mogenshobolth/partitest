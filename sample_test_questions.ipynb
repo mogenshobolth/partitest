{
 "cells": [
  {
   "cell_type": "code",
   "execution_count": 2,
   "metadata": {},
   "outputs": [],
   "source": [
    "import pandas as pd\n",
    "df = pd.read_parquet('data.parquet')"
   ]
  },
  {
   "cell_type": "code",
   "execution_count": 3,
   "metadata": {},
   "outputs": [],
   "source": [
    "# Sample baseret på ministerier, som må forventes at præsentere mere kontroversielle forslag end andre\n",
    "ministerier = ['Skatteministeriet','Udlændinge- og Integrationsministeriet','Klima-, Energi- og Forsyningsministeriet','Transportministeriet','Justitsministeriet']\n",
    "df3 = pd.DataFrame()\n",
    "for x in ministerier:\n",
    "    df_m = df[df['ministeromraade'] == x].sample(4)\n",
    "    if len(df3.columns) == 0:\n",
    "        df3 = df_m\n",
    "    else:\n",
    "        df3 = pd.concat([df3,df_m])\n",
    "df3['raekkenr'] = df3.reset_index().index\n",
    "#df3.to_csv('static/data_sample.csv')"
   ]
  },
  {
   "cell_type": "code",
   "execution_count": 12,
   "metadata": {},
   "outputs": [],
   "source": [
    "# Sample baseret på hvor mange partier, som stemte i mod tiltaget. Jo flere i mod, jo mere politiseret\n",
    "def antal_imod(df):\n",
    "    x = 0\n",
    "    partier = ['stem_FG','stem_ALT','stem_EL','stem_SF','stem_RV','stem_S','stem_V','stem_KF','stem_KD','stem_LA','stem_DF','stem_NB']\n",
    "    for parti in partier:\n",
    "        if df[parti] == 0:\n",
    "            x += 1\n",
    "    return x\n",
    "df4 = df.copy()\n",
    "df4['antal_partier_imod'] = df4.apply(lambda x: antal_imod(x), axis=1)\n",
    "df4 = df4.sort_values(by=['antal_partier_imod'], ascending=False).head(25)\n",
    "df4['raekkenr'] = df4.reset_index().index\n",
    "df4.to_csv('static/data_sample.csv')\n",
    "#df4['antal_partier_imod'].value_counts()"
   ]
  },
  {
   "cell_type": "code",
   "execution_count": 5,
   "metadata": {},
   "outputs": [],
   "source": [
    "df2 = df.sample(25)\n",
    "df2['rowno'] = df2.reset_index().index\n",
    "#df2.to_csv('static/roll_call_votes_sample.csv')"
   ]
  }
 ],
 "metadata": {
  "kernelspec": {
   "display_name": "Python 3.10.4 ('ft')",
   "language": "python",
   "name": "python3"
  },
  "language_info": {
   "codemirror_mode": {
    "name": "ipython",
    "version": 3
   },
   "file_extension": ".py",
   "mimetype": "text/x-python",
   "name": "python",
   "nbconvert_exporter": "python",
   "pygments_lexer": "ipython3",
   "version": "3.10.4"
  },
  "orig_nbformat": 4,
  "vscode": {
   "interpreter": {
    "hash": "7180c989ee1c0b15e804562ef63d4544b5c2eab1c355a8dabd3083fddb20c564"
   }
  }
 },
 "nbformat": 4,
 "nbformat_minor": 2
}
