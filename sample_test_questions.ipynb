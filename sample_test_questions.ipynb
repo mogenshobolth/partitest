{
 "cells": [
  {
   "cell_type": "code",
   "execution_count": 3,
   "metadata": {},
   "outputs": [],
   "source": [
    "import pandas as pd\n",
    "df = pd.read_parquet('data.parquet')"
   ]
  },
  {
   "cell_type": "markdown",
   "metadata": {},
   "source": [
    "Denne indledende simple udvælgelseslogik er baseret på en ide, at disse ministerier vil typisk være dem, som præsenterer spørgsmål, hvor holdninger vil være delte. "
   ]
  },
  {
   "cell_type": "code",
   "execution_count": 4,
   "metadata": {},
   "outputs": [],
   "source": [
    "ministerier = ['Skatteministeriet','Udlændinge- og Integrationsministeriet','Klima-, Energi- og Forsyningsministeriet','Transportministeriet','Justitsministeriet']\n",
    "df3 = pd.DataFrame()\n",
    "for x in ministerier:\n",
    "    df_m = df[df['ministeromraade'] == x].sample(4)\n",
    "    if len(df3.columns) == 0:\n",
    "        df3 = df_m\n",
    "    else:\n",
    "        df3 = pd.concat([df3,df_m])\n",
    "df3['raekkenr'] = df3.reset_index().index\n",
    "df3.to_csv('static/data_sample.csv')"
   ]
  },
  {
   "cell_type": "code",
   "execution_count": 5,
   "metadata": {},
   "outputs": [],
   "source": [
    "df2 = df.sample(25)\n",
    "df2['rowno'] = df2.reset_index().index\n",
    "#df2.to_csv('static/roll_call_votes_sample.csv')"
   ]
  }
 ],
 "metadata": {
  "kernelspec": {
   "display_name": "Python 3.10.4 ('ft')",
   "language": "python",
   "name": "python3"
  },
  "language_info": {
   "codemirror_mode": {
    "name": "ipython",
    "version": 3
   },
   "file_extension": ".py",
   "mimetype": "text/x-python",
   "name": "python",
   "nbconvert_exporter": "python",
   "pygments_lexer": "ipython3",
   "version": "3.10.4"
  },
  "orig_nbformat": 4,
  "vscode": {
   "interpreter": {
    "hash": "7180c989ee1c0b15e804562ef63d4544b5c2eab1c355a8dabd3083fddb20c564"
   }
  }
 },
 "nbformat": 4,
 "nbformat_minor": 2
}
