{
 "cells": [
  {
   "cell_type": "code",
   "execution_count": 2,
   "metadata": {},
   "outputs": [],
   "source": [
    "import pandas as pd\n",
    "df = pd.read_parquet('data.parquet')"
   ]
  },
  {
   "cell_type": "code",
   "execution_count": 19,
   "metadata": {},
   "outputs": [],
   "source": [
    "# Sample baseret på ministerier, 2 på den fordelingspolitiske akse, 2 på den værdipolitiske\n",
    "ministerier = ['Skatteministeriet','Beskæftigelsesministeriet','Udlændinge- og Integrationsministeriet','Klima-, Energi- og Forsyningsministeriet']\n",
    "df['antal_partier_imod'] = df.apply(lambda x: antal_imod(x), axis=1)\n",
    "\n",
    "df3 = pd.DataFrame()\n",
    "for x in ministerier:\n",
    "    df_m = df[df['ministeromraade'] == x]\n",
    "    df_m = df_m[df_m['titel'].str.len() < 300]\n",
    "    df_m = df_m[df_m['antal_partier_imod'] >= 2]\n",
    "    df_m = df_m.sort_values(by=['antal_partier_imod'], ascending=False)\n",
    "    df_m = df_m.head(10)\n",
    "    if len(df3.columns) == 0:\n",
    "        df3 = df_m\n",
    "    else:\n",
    "        df3 = pd.concat([df3,df_m])\n",
    "df3['raekkenr'] = df3.reset_index().index\n",
    "df3.to_csv('static/data_sample.csv')"
   ]
  },
  {
   "cell_type": "code",
   "execution_count": 20,
   "metadata": {},
   "outputs": [],
   "source": [
    "# Ud af 35 forslag fundet i modellen ovenfor blev ved gennemgang udvalgt 10\n",
    "# Herefter blev der lavet en tilsvarende udsøgning for de øvrige ministerier og 6 yderligere forslag valgt\n",
    "# Kriteriet for udvægelse var klarhed og genkendelighed fra den offentlige debat"
   ]
  },
  {
   "cell_type": "code",
   "execution_count": 33,
   "metadata": {},
   "outputs": [],
   "source": [
    "selection = [91808,85864,90804,89413,88364,88485,89657,89653,91766,90133,90729,92088,91140,88365,85700,84962,90145]\n",
    "df5 = df[df.id.isin(selection)]\n",
    "df5 = df5.sort_values(by=['ministeromraade'])\n",
    "df5['raekkenr'] = df5.reset_index().index\n",
    "df5.to_csv('static/data_sample.csv')"
   ]
  },
  {
   "cell_type": "code",
   "execution_count": 5,
   "metadata": {},
   "outputs": [],
   "source": [
    "y = ['Social- og Ældreministeriet','Social- og Indenrigsministeriet']\n",
    "df6 = df[df.ministeromraade.isin(y)].copy()\n",
    "df6['raekkenr'] = df6.reset_index().index\n",
    "df6.to_csv('static/data_sample.csv')"
   ]
  },
  {
   "cell_type": "code",
   "execution_count": 12,
   "metadata": {},
   "outputs": [],
   "source": [
    "# Sample baseret på hvor mange partier, som stemte i mod tiltaget. Jo flere i mod, jo mere politiseret\n",
    "df4 = df.copy()\n",
    "df4['antal_partier_imod'] = df4.apply(lambda x: antal_imod(x), axis=1)\n",
    "df4 = df4.sort_values(by=['antal_partier_imod'], ascending=False).head(25)\n",
    "df4['raekkenr'] = df4.reset_index().index\n",
    "df4.to_csv('static/data_sample.csv')\n",
    "#df4['antal_partier_imod'].value_counts()"
   ]
  },
  {
   "cell_type": "code",
   "execution_count": 5,
   "metadata": {},
   "outputs": [],
   "source": [
    "df2 = df.sample(25)\n",
    "df2['rowno'] = df2.reset_index().index\n",
    "#df2.to_csv('static/roll_call_votes_sample.csv')"
   ]
  }
 ],
 "metadata": {
  "kernelspec": {
   "display_name": "Python 3.10.4 ('ft')",
   "language": "python",
   "name": "python3"
  },
  "language_info": {
   "codemirror_mode": {
    "name": "ipython",
    "version": 3
   },
   "file_extension": ".py",
   "mimetype": "text/x-python",
   "name": "python",
   "nbconvert_exporter": "python",
   "pygments_lexer": "ipython3",
   "version": "3.10.4"
  },
  "orig_nbformat": 4,
  "vscode": {
   "interpreter": {
    "hash": "7180c989ee1c0b15e804562ef63d4544b5c2eab1c355a8dabd3083fddb20c564"
   }
  }
 },
 "nbformat": 4,
 "nbformat_minor": 2
}
